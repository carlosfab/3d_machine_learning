{
 "cells": [
  {
   "cell_type": "markdown",
   "metadata": {},
   "source": [
    "# Point Cloud Processing with Open3D\n",
    "\n",
    "The field of 3D understanding has been attracting increasing attention in recent times, significantly propelled by (AR and Spatial Computing technology, backed by major companies like Apple and Meta, with recent the launch of Apple's Vision Pro). At the heart of this fascinating field lies 3D computer vision, a specialized branch of computer vision that focuses on understanding and processing three-dimensional visual data from the real world.\n",
    "\n",
    "Applications range from navigation systems in self-driving cars and operational algorithms in autonomous robots to immersive virtual and augmented reality experiences. Processing and interpreting three-dimensional information is key to these technologies' development.\n",
    "\n",
    "This article introduces 3D point cloud processing using Open3D library, an open-source library designed to empower developers and researchers with a comprehensive set of tools for 3D data processing. All these concepts will be explored through practical Python examples, providing a solid foundation for further exploration and application of 3D data processing skills."
   ]
  },
  {
   "cell_type": "markdown",
   "metadata": {},
   "source": [
    "## Initial setup\n",
    "\n",
    "The Open3D official Python wheels offer support for Jupyter web visualizer, which requires building the Open3D Python package from source with the cmake option `-DBUILD_JUPYTER_EXTENSION` for enhanced functionality in Jupyter notebooks. To facilitate executing code in a Jupyter Notebook as if it were a script—particularly for visualization tasks that necessitate graphical interaction, such as those common with Open3D—a couple of methods are advisable.\n",
    "\n",
    "A practical approach involves leveraging Jupyter Notebook's command-line interface (CLI) or an external environment to circumvent kernel blocking during visualization. Specifically, utilizing the `%%writefile` magic function allows for the saving of code into a `.py` file. This file can then be executed from a separate cell or through a terminal with the command `!python <script_name>.py`, enabling efficient management and execution of visualization tasks within the Jupyter ecosystem.\n"
   ]
  },
  {
   "cell_type": "code",
   "execution_count": 1,
   "metadata": {
    "tags": []
   },
   "outputs": [],
   "source": [
    "%load_ext autoreload\n",
    "%autoreload 2\n",
    "\n",
    "from pathlib import Path\n",
    "import sys\n",
    "import open3d as o3d\n",
    "\n",
    "# Setting up paths for code and data\n",
    "CODE_FOLDER = Path(\"../src\").resolve()\n",
    "CODE_FOLDER.mkdir(parents=True, exist_ok=True)\n",
    "\n",
    "# Adding custom folders to the system path for easy import\n",
    "sys.path.extend([str(CODE_FOLDER)])"
   ]
  },
  {
   "cell_type": "markdown",
   "metadata": {},
   "source": [
    "## Visualizing a Point Cloud\n",
    "\n",
    "The core of this tutorial focuses on loading and visualizing a point cloud using Open3D. The process begins with loading a .ply point cloud file, a popular format for storing 3D data. The read_point_cloud method is used for this purpose, which automatically decodes the file based on its extension."
   ]
  },
  {
   "cell_type": "code",
   "execution_count": 2,
   "metadata": {
    "tags": []
   },
   "outputs": [
    {
     "name": "stdout",
     "output_type": "stream",
     "text": [
      "Overwriting /Users/carlos/Projects/3d_machine_learning/src/point_clouds_visualization.py\n"
     ]
    }
   ],
   "source": [
    "%%writefile {CODE_FOLDER}/point_clouds_visualization.py\n",
    "\n",
    "import numpy as np\n",
    "import open3d as o3d\n",
    "\n",
    "# Loading and visualizing a PLY point cloud\n",
    "print(\"Loading a PLY point cloud, printing, and rendering...\")\n",
    "ply_point_cloud = o3d.data.PLYPointCloud()\n",
    "pcd = o3d.io.read_point_cloud(ply_point_cloud.path)\n",
    "\n",
    "# Printing point cloud information and points array\n",
    "print(pcd)\n",
    "print(np.asarray(pcd.points))\n",
    "\n",
    "# Setting visualization parameters\n",
    "view_params = {\n",
    "    \"zoom\": 0.3412,\n",
    "    \"front\": [0.4257, -0.2125, -0.8795],\n",
    "    \"lookat\": [2.6172, 2.0475, 1.532],\n",
    "    \"up\": [-0.0694, -0.9768, 0.2024],\n",
    "}\n",
    "\n",
    "# Rendering the point cloud\n",
    "o3d.visualization.draw_geometries([pcd], **view_params)\n",
    "\n"
   ]
  },
  {
   "cell_type": "code",
   "execution_count": 5,
   "metadata": {},
   "outputs": [
    {
     "name": "stdout",
     "output_type": "stream",
     "text": [
      "Loading a PLY point cloud, printing, and rendering...\n",
      "PointCloud with 196133 points.\n",
      "[[0.65234375 0.84686458 2.37890625]\n",
      " [0.65234375 0.83984375 2.38430572]\n",
      " [0.66737998 0.83984375 2.37890625]\n",
      " ...\n",
      " [2.00839925 2.39453125 1.88671875]\n",
      " [2.00390625 2.39488506 1.88671875]\n",
      " [2.00390625 2.39453125 1.88793314]]\n"
     ]
    }
   ],
   "source": [
    "!python {CODE_FOLDER}/point_clouds_visualization.py"
   ]
  },
  {
   "cell_type": "markdown",
   "metadata": {},
   "source": [
    "After loading the point cloud, we can inspect it by printing the `pcd` object and the array of points it contains. This provides a glimpse into the structure and data contained within the point cloud. The visualization is handled by the `draw_geometries` function.\n",
    "\n",
    "This powerful function renders the point cloud in a window, allowing users to interact with the 3D data. These parameters help in adjusting the camera's perspective, offering a detailed view of the data structure post-downsampling.\n",
    "\n"
   ]
  },
  {
   "cell_type": "markdown",
   "metadata": {},
   "source": [
    "## Voxel Downsampling\n",
    "\n",
    "This process applies a voxel grid to uniformly downsample an input point cloud. It simplifies point cloud data for computational efficiency in further processing steps. The method operates by grouping points into voxels and then averaging the points in each voxel to a single location.\n",
    "\n",
    "This reduces the number of points, maintaining the general shape and features of the original point cloud."
   ]
  },
  {
   "cell_type": "code",
   "execution_count": 6,
   "metadata": {},
   "outputs": [
    {
     "name": "stdout",
     "output_type": "stream",
     "text": [
      "Overwriting /Users/carlos/Projects/3d_machine_learning/src/voxel_downsampling.py\n"
     ]
    }
   ],
   "source": [
    "%%writefile {CODE_FOLDER}/voxel_downsampling.py\n",
    "\n",
    "import numpy as np\n",
    "import open3d as o3d\n",
    "\n",
    "print(\"Downsampling the point cloud with a voxel size of 0.05\")\n",
    "\n",
    "# Loading and visualizing a PLY point cloud\n",
    "print(\"Loading a PLY point cloud, printing, and rendering...\")\n",
    "ply_point_cloud = o3d.data.PLYPointCloud()\n",
    "pcd = o3d.io.read_point_cloud(ply_point_cloud.path)\n",
    "\n",
    "# Applying voxel downsampling\n",
    "downpcd = pcd.voxel_down_sample(voxel_size=0.05)\n",
    "\n",
    "# Setting visualization parameters for the downsampled point cloud\n",
    "downsample_view_params = {\n",
    "    \"zoom\": 0.3412,\n",
    "    \"front\": [0.4257, -0.2125, -0.8795],\n",
    "    \"lookat\": [2.6172, 2.0475, 1.532],\n",
    "    \"up\": [-0.0694, -0.9768, 0.2024],\n",
    "}\n",
    "\n",
    "# Rendering the downsampled point cloud\n",
    "o3d.visualization.draw_geometries([downpcd], **downsample_view_params)\n"
   ]
  },
  {
   "cell_type": "code",
   "execution_count": 7,
   "metadata": {},
   "outputs": [
    {
     "name": "stdout",
     "output_type": "stream",
     "text": [
      "Downsampling the point cloud with a voxel size of 0.05\n",
      "Loading a PLY point cloud, printing, and rendering...\n"
     ]
    }
   ],
   "source": [
    "!python {CODE_FOLDER}/voxel_downsampling.py"
   ]
  },
  {
   "cell_type": "markdown",
   "metadata": {},
   "source": [
    "In the voxel downsampling code snippet, the process begins with specifying a voxel size of 0.05, which determines the resolution of the downsampling grid. The `voxel_down_sample` function is called on the original point cloud `pcd`, reducing its density by averaging the points within each voxel to a single point. This results in `downpcd`, a downsampled version of the original point cloud.\n",
    "\n",
    "The `o3d.visualization.draw_geometries` function is then used to visualize `downpcd`. Parameters like `zoom`, `front`, `lookat`, and `up` are set to configure the viewing angle and position, providing a clear visualization of the downsampled point cloud."
   ]
  },
  {
   "cell_type": "markdown",
   "metadata": {},
   "source": [
    "## Vertex Normal Estimation\n",
    "\n",
    "Vertex normal estimation calculates normals for each point in the cloud, crucial for many 3D processing tasks. Viewing normals can be enabled by pressing N, and their length adjusted with - and +. This function computes normals by identifying adjacent points and using covariance analysis to find the principal axis. A KDTreeSearchParamHybrid instance, specifying a search radius and maximum nearest neighbors, controls the detail of the normal estimation to balance between accuracy and computational load."
   ]
  },
  {
   "cell_type": "code",
   "execution_count": 8,
   "metadata": {},
   "outputs": [
    {
     "name": "stdout",
     "output_type": "stream",
     "text": [
      "Overwriting /Users/carlos/Projects/3d_machine_learning/src/vertex_normal_estimation.py\n"
     ]
    }
   ],
   "source": [
    "%%writefile {CODE_FOLDER}/vertex_normal_estimation.py\n",
    "\n",
    "import numpy as np\n",
    "import open3d as o3d\n",
    "\n",
    "# Loading and visualizing a PLY point cloud\n",
    "print(\"Loading a PLY point cloud, printing, and rendering...\")\n",
    "ply_point_cloud = o3d.data.PLYPointCloud()\n",
    "pcd = o3d.io.read_point_cloud(ply_point_cloud.path)\n",
    "\n",
    "# Applying voxel downsampling\n",
    "downpcd = pcd.voxel_down_sample(voxel_size=0.05)\n",
    "\n",
    "print(\"Recomputing normals for the downsampled point cloud\")\n",
    "\n",
    "# Estimating normals for the downsampled point cloud\n",
    "downpcd.estimate_normals(\n",
    "    search_param=o3d.geometry.KDTreeSearchParamHybrid(radius=0.1, max_nn=30)\n",
    ")\n",
    "\n",
    "# Visualization parameters for displaying normals\n",
    "normals_view_params = {\n",
    "    \"zoom\": 0.3412,\n",
    "    \"front\": [0.4257, -0.2125, -0.8795],\n",
    "    \"lookat\": [2.6172, 2.0475, 1.532],\n",
    "    \"up\": [-0.0694, -0.9768, 0.2024],\n",
    "    \"point_show_normal\": True,\n",
    "}\n",
    "\n",
    "# Rendering the downsampled point cloud with normals\n",
    "o3d.visualization.draw_geometries([downpcd], **normals_view_params)\n"
   ]
  },
  {
   "cell_type": "code",
   "execution_count": 9,
   "metadata": {},
   "outputs": [
    {
     "name": "stdout",
     "output_type": "stream",
     "text": [
      "Loading a PLY point cloud, printing, and rendering...\n",
      "Recomputing normals for the downsampled point cloud\n"
     ]
    }
   ],
   "source": [
    "!python {CODE_FOLDER}/vertex_normal_estimation.py"
   ]
  },
  {
   "cell_type": "markdown",
   "metadata": {},
   "source": [
    "In the vertex normal estimation code, the operation begins by calling `estimate_normals` on the downsampled point cloud `downpcd`. This function calculates normals for each point, which are essential for many 3D processing tasks, such as rendering, simulation, and further geometric analysis. The `search_param` argument specifies how the normals are computed, using a KD-tree to efficiently find nearby points.\n",
    "\n",
    "Here, `o3d.geometry.KDTreeSearchParamHybrid` is configured with a `radius` of 0.1 and a `max_nn` (maximum nearest neighbors) of 30. This configuration balances the precision of normal estimation with computational efficiency by limiting the search to a radius of 10cm and considering up to 30 neighbors for each point.\n",
    "\n",
    "Following the computation of normals, the `o3d.visualization.draw_geometries` function visualizes the downsampled point cloud with normals enabled."
   ]
  }
 ],
 "metadata": {
  "kernelspec": {
   "display_name": "Python 3 (ipykernel)",
   "language": "python",
   "name": "python3"
  },
  "language_info": {
   "codemirror_mode": {
    "name": "ipython",
    "version": 3
   },
   "file_extension": ".py",
   "mimetype": "text/x-python",
   "name": "python",
   "nbconvert_exporter": "python",
   "pygments_lexer": "ipython3",
   "version": "3.10.0"
  }
 },
 "nbformat": 4,
 "nbformat_minor": 4
}
